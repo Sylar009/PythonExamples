{
 "cells": [
  {
   "cell_type": "markdown",
   "id": "88362279",
   "metadata": {},
   "source": [
    "\n",
    "# Python program showing\n",
    "# a use of input() "
   ]
  },
  {
   "cell_type": "code",
   "execution_count": 1,
   "id": "468e92f5",
   "metadata": {},
   "outputs": [
    {
     "name": "stdout",
     "output_type": "stream",
     "text": [
      "Enter your value: 1234\n",
      "1234\n"
     ]
    }
   ],
   "source": [
    "val = input(\"Enter your value: \")\n",
    "print(val)"
   ]
  },
  {
   "cell_type": "markdown",
   "id": "b241a0d1",
   "metadata": {},
   "source": [
    "\n",
    "# Program to check input\n",
    "# type in Python"
   ]
  },
  {
   "cell_type": "code",
   "execution_count": 2,
   "id": "27c3e1e6",
   "metadata": {},
   "outputs": [
    {
     "name": "stdout",
     "output_type": "stream",
     "text": [
      "Enter number :78945\n",
      "78945\n",
      "Enter name : SyLar009\n",
      "SyLar009\n",
      "type of number <class 'str'>\n",
      "type of name <class 'str'>\n"
     ]
    }
   ],
   "source": [
    "num = input (\"Enter number :\")\n",
    "print(num)\n",
    "name1 = input(\"Enter name : \")\n",
    "print(name1)\n",
    " \n",
    "# Printing type of input value\n",
    "print (\"type of number\", type(num))\n",
    "print (\"type of name\", type(name1))"
   ]
  },
  {
   "cell_type": "markdown",
   "id": "379cf5d3",
   "metadata": {},
   "source": [
    "\n",
    "# Python program showing\n",
    "# a use of raw_input()"
   ]
  },
  {
   "cell_type": "code",
   "execution_count": 3,
   "id": "e32376a2",
   "metadata": {},
   "outputs": [],
   "source": [
    "#This function works in older version (like Python 2.x). \n",
    "#This function takes exactly what is typed from the keyboard, \n",
    "#convert it to string and then return it to the variable in which we want to store. \n",
    "\n",
    "\n",
    "\n",
    "# g = raw_input(\"Enter your name : \")\n",
    "# print (g)"
   ]
  },
  {
   "cell_type": "code",
   "execution_count": null,
   "id": "e49e209b",
   "metadata": {},
   "outputs": [],
   "source": []
  },
  {
   "cell_type": "code",
   "execution_count": null,
   "id": "46e77de0",
   "metadata": {},
   "outputs": [],
   "source": []
  }
 ],
 "metadata": {
  "kernelspec": {
   "display_name": "Python 3 (ipykernel)",
   "language": "python",
   "name": "python3"
  },
  "language_info": {
   "codemirror_mode": {
    "name": "ipython",
    "version": 3
   },
   "file_extension": ".py",
   "mimetype": "text/x-python",
   "name": "python",
   "nbconvert_exporter": "python",
   "pygments_lexer": "ipython3",
   "version": "3.9.7"
  }
 },
 "nbformat": 4,
 "nbformat_minor": 5
}
